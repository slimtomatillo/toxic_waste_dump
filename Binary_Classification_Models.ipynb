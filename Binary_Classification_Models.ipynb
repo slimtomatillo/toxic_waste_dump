{
 "cells": [
  {
   "cell_type": "code",
   "execution_count": 1,
   "metadata": {},
   "outputs": [
    {
     "name": "stderr",
     "output_type": "stream",
     "text": [
      "/Applications/anaconda3/lib/python3.6/site-packages/sklearn/cross_validation.py:41: DeprecationWarning: This module was deprecated in version 0.18 in favor of the model_selection module into which all the refactored classes and functions are moved. Also note that the interface of the new CV iterators are different from that of this module. This module will be removed in 0.20.\n",
      "  \"This module will be removed in 0.20.\", DeprecationWarning)\n"
     ]
    }
   ],
   "source": [
    "# Standard libraries\n",
    "import numpy as np\n",
    "import pandas as pd\n",
    "\n",
    "# Preprocessing\n",
    "from sklearn.cross_validation import train_test_split\n",
    "\n",
    "# Models\n",
    "from sklearn.feature_extraction.text import TfidfVectorizer\n",
    "from sklearn.linear_model import LogisticRegression\n",
    "from sklearn.model_selection import GridSearchCV\n",
    "from sklearn.model_selection import RandomizedSearchCV\n",
    "from sklearn.tree import DecisionTreeClassifier\n",
    "from sklearn.ensemble import RandomForestClassifier\n",
    "from sklearn.neighbors import KNeighborsClassifier\n",
    "\n",
    "# Performance metrics\n",
    "from sklearn.model_selection import cross_val_score\n",
    "from sklearn.metrics import accuracy_score\n",
    "from sklearn.metrics import precision_recall_fscore_support as score\n",
    "from sklearn.metrics import roc_curve\n",
    "from sklearn.metrics import auc\n",
    "from sklearn.metrics import roc_auc_score\n",
    "\n",
    "# For visualizing the decision tree\n",
    "from sklearn.externals.six import StringIO  \n",
    "from IPython.display import Image  \n",
    "from sklearn.tree import export_graphviz\n",
    "import pydotplus\n",
    "\n",
    "# For visualizations\n",
    "import matplotlib.pyplot as plt\n",
    "import seaborn as sns\n",
    "\n",
    "%matplotlib inline\n",
    "\n",
    "# Other libraries\n",
    "import itertools"
   ]
  },
  {
   "cell_type": "code",
   "execution_count": 4,
   "metadata": {},
   "outputs": [],
   "source": [
    "# Load in data\n",
    "data = pd.read_pickle('data_cleaned.pkl')"
   ]
  },
  {
   "cell_type": "code",
   "execution_count": 5,
   "metadata": {},
   "outputs": [
    {
     "data": {
      "text/html": [
       "<div>\n",
       "<style scoped>\n",
       "    .dataframe tbody tr th:only-of-type {\n",
       "        vertical-align: middle;\n",
       "    }\n",
       "\n",
       "    .dataframe tbody tr th {\n",
       "        vertical-align: top;\n",
       "    }\n",
       "\n",
       "    .dataframe thead th {\n",
       "        text-align: right;\n",
       "    }\n",
       "</style>\n",
       "<table border=\"1\" class=\"dataframe\">\n",
       "  <thead>\n",
       "    <tr style=\"text-align: right;\">\n",
       "      <th></th>\n",
       "      <th>id</th>\n",
       "      <th>comment_text</th>\n",
       "      <th>toxic</th>\n",
       "      <th>severe_toxic</th>\n",
       "      <th>obscene</th>\n",
       "      <th>threat</th>\n",
       "      <th>insult</th>\n",
       "      <th>identity_hate</th>\n",
       "      <th>harmful</th>\n",
       "      <th>cleaned</th>\n",
       "      <th>...</th>\n",
       "      <th>model_text_tri</th>\n",
       "      <th>model_text_bi_tri</th>\n",
       "      <th>stem_model_text_bi</th>\n",
       "      <th>stem_model_text_tri</th>\n",
       "      <th>stem_model_text_bi_tri</th>\n",
       "      <th>cleaned_model_text</th>\n",
       "      <th>stem_model_text</th>\n",
       "      <th>num_words</th>\n",
       "      <th>target_label</th>\n",
       "      <th>num_label</th>\n",
       "    </tr>\n",
       "  </thead>\n",
       "  <tbody>\n",
       "    <tr>\n",
       "      <th>0</th>\n",
       "      <td>0000997932d777bf</td>\n",
       "      <td>Explanation\\nWhy the edits made under my usern...</td>\n",
       "      <td>0</td>\n",
       "      <td>0</td>\n",
       "      <td>0</td>\n",
       "      <td>0</td>\n",
       "      <td>0</td>\n",
       "      <td>0</td>\n",
       "      <td>0</td>\n",
       "      <td>[explanation, edits, username, hardcore, metal...</td>\n",
       "      <td>...</td>\n",
       "      <td>explanation edits username hardcore metallica ...</td>\n",
       "      <td>explanation edits username hardcore metallica ...</td>\n",
       "      <td>explan why the edit made under my usernam hard...</td>\n",
       "      <td>explan why the edit made under my usernam hard...</td>\n",
       "      <td>explan why the edit made under my usernam hard...</td>\n",
       "      <td>explanation edits username hardcore metallica ...</td>\n",
       "      <td>explan why the edit made under my usernam hard...</td>\n",
       "      <td>25</td>\n",
       "      <td>[clean]</td>\n",
       "      <td>[0]</td>\n",
       "    </tr>\n",
       "    <tr>\n",
       "      <th>1</th>\n",
       "      <td>000103f0d9cfb60f</td>\n",
       "      <td>D'aww! He matches this background colour I'm s...</td>\n",
       "      <td>0</td>\n",
       "      <td>0</td>\n",
       "      <td>0</td>\n",
       "      <td>0</td>\n",
       "      <td>0</td>\n",
       "      <td>0</td>\n",
       "      <td>0</td>\n",
       "      <td>[daww, matches, background, colour, seemingly,...</td>\n",
       "      <td>...</td>\n",
       "      <td>daww matches background colour seemingly stuck...</td>\n",
       "      <td>daww matches background colour seemingly stuck...</td>\n",
       "      <td>d'aww! he match thi background colour i'm seem...</td>\n",
       "      <td>d'aww! he match thi background colour i'm seem...</td>\n",
       "      <td>d'aww! he match thi background colour i'm seem...</td>\n",
       "      <td>daww matches background colour seemingly stuck...</td>\n",
       "      <td>d'aww! he match thi background colour i'm seem...</td>\n",
       "      <td>13</td>\n",
       "      <td>[clean]</td>\n",
       "      <td>[0]</td>\n",
       "    </tr>\n",
       "    <tr>\n",
       "      <th>2</th>\n",
       "      <td>000113f07ec002fd</td>\n",
       "      <td>Hey man, I'm really not trying to edit war. It...</td>\n",
       "      <td>0</td>\n",
       "      <td>0</td>\n",
       "      <td>0</td>\n",
       "      <td>0</td>\n",
       "      <td>0</td>\n",
       "      <td>0</td>\n",
       "      <td>0</td>\n",
       "      <td>[hey, man, trying, edit, war, guy, constantly,...</td>\n",
       "      <td>...</td>\n",
       "      <td>hey man trying edit war guy constantly removin...</td>\n",
       "      <td>hey man trying edit war guy constantly removin...</td>\n",
       "      <td>hei man, i'm realli not try to edit war. it' j...</td>\n",
       "      <td>hei man, i'm realli not try to edit war. it' j...</td>\n",
       "      <td>hei man, i'm realli not try to edit war. it' j...</td>\n",
       "      <td>hey man trying edit war guy constantly removin...</td>\n",
       "      <td>hei man, i'm realli not try to edit war. it' j...</td>\n",
       "      <td>19</td>\n",
       "      <td>[clean]</td>\n",
       "      <td>[0]</td>\n",
       "    </tr>\n",
       "    <tr>\n",
       "      <th>3</th>\n",
       "      <td>0001b41b1c6bb37e</td>\n",
       "      <td>\"\\nMore\\nI can't make any real suggestions on ...</td>\n",
       "      <td>0</td>\n",
       "      <td>0</td>\n",
       "      <td>0</td>\n",
       "      <td>0</td>\n",
       "      <td>0</td>\n",
       "      <td>0</td>\n",
       "      <td>0</td>\n",
       "      <td>[real, suggestions, improvement, wondered, sec...</td>\n",
       "      <td>...</td>\n",
       "      <td>real suggestions improvement wondered section ...</td>\n",
       "      <td>real suggestions improvement wondered section ...</td>\n",
       "      <td>\" more i can't make ani real suggest on improv...</td>\n",
       "      <td>\" more i can't make ani real suggest on improv...</td>\n",
       "      <td>\" more i can't make ani real suggest on improv...</td>\n",
       "      <td>real suggestions improvement wondered section ...</td>\n",
       "      <td>\" more i can't make ani real suggest on improv...</td>\n",
       "      <td>38</td>\n",
       "      <td>[clean]</td>\n",
       "      <td>[0]</td>\n",
       "    </tr>\n",
       "    <tr>\n",
       "      <th>4</th>\n",
       "      <td>0001d958c54c6e35</td>\n",
       "      <td>You, sir, are my hero. Any chance you remember...</td>\n",
       "      <td>0</td>\n",
       "      <td>0</td>\n",
       "      <td>0</td>\n",
       "      <td>0</td>\n",
       "      <td>0</td>\n",
       "      <td>0</td>\n",
       "      <td>0</td>\n",
       "      <td>[sir, hero, chance, remember, page]</td>\n",
       "      <td>...</td>\n",
       "      <td>sir hero chance remember page sir_hero_chance ...</td>\n",
       "      <td>sir hero chance remember page sir_hero hero_ch...</td>\n",
       "      <td>you, sir, ar my hero. ani chanc you rememb wha...</td>\n",
       "      <td>you, sir, ar my hero. ani chanc you rememb wha...</td>\n",
       "      <td>you, sir, ar my hero. ani chanc you rememb wha...</td>\n",
       "      <td>sir hero chance remember page</td>\n",
       "      <td>you, sir, ar my hero. ani chanc you rememb wha...</td>\n",
       "      <td>5</td>\n",
       "      <td>[clean]</td>\n",
       "      <td>[0]</td>\n",
       "    </tr>\n",
       "  </tbody>\n",
       "</table>\n",
       "<p>5 rows × 23 columns</p>\n",
       "</div>"
      ],
      "text/plain": [
       "                 id                                       comment_text  toxic  \\\n",
       "0  0000997932d777bf  Explanation\\nWhy the edits made under my usern...      0   \n",
       "1  000103f0d9cfb60f  D'aww! He matches this background colour I'm s...      0   \n",
       "2  000113f07ec002fd  Hey man, I'm really not trying to edit war. It...      0   \n",
       "3  0001b41b1c6bb37e  \"\\nMore\\nI can't make any real suggestions on ...      0   \n",
       "4  0001d958c54c6e35  You, sir, are my hero. Any chance you remember...      0   \n",
       "\n",
       "   severe_toxic  obscene  threat  insult  identity_hate  harmful  \\\n",
       "0             0        0       0       0              0        0   \n",
       "1             0        0       0       0              0        0   \n",
       "2             0        0       0       0              0        0   \n",
       "3             0        0       0       0              0        0   \n",
       "4             0        0       0       0              0        0   \n",
       "\n",
       "                                             cleaned    ...     \\\n",
       "0  [explanation, edits, username, hardcore, metal...    ...      \n",
       "1  [daww, matches, background, colour, seemingly,...    ...      \n",
       "2  [hey, man, trying, edit, war, guy, constantly,...    ...      \n",
       "3  [real, suggestions, improvement, wondered, sec...    ...      \n",
       "4                [sir, hero, chance, remember, page]    ...      \n",
       "\n",
       "                                      model_text_tri  \\\n",
       "0  explanation edits username hardcore metallica ...   \n",
       "1  daww matches background colour seemingly stuck...   \n",
       "2  hey man trying edit war guy constantly removin...   \n",
       "3  real suggestions improvement wondered section ...   \n",
       "4  sir hero chance remember page sir_hero_chance ...   \n",
       "\n",
       "                                   model_text_bi_tri  \\\n",
       "0  explanation edits username hardcore metallica ...   \n",
       "1  daww matches background colour seemingly stuck...   \n",
       "2  hey man trying edit war guy constantly removin...   \n",
       "3  real suggestions improvement wondered section ...   \n",
       "4  sir hero chance remember page sir_hero hero_ch...   \n",
       "\n",
       "                                  stem_model_text_bi  \\\n",
       "0  explan why the edit made under my usernam hard...   \n",
       "1  d'aww! he match thi background colour i'm seem...   \n",
       "2  hei man, i'm realli not try to edit war. it' j...   \n",
       "3  \" more i can't make ani real suggest on improv...   \n",
       "4  you, sir, ar my hero. ani chanc you rememb wha...   \n",
       "\n",
       "                                 stem_model_text_tri  \\\n",
       "0  explan why the edit made under my usernam hard...   \n",
       "1  d'aww! he match thi background colour i'm seem...   \n",
       "2  hei man, i'm realli not try to edit war. it' j...   \n",
       "3  \" more i can't make ani real suggest on improv...   \n",
       "4  you, sir, ar my hero. ani chanc you rememb wha...   \n",
       "\n",
       "                              stem_model_text_bi_tri  \\\n",
       "0  explan why the edit made under my usernam hard...   \n",
       "1  d'aww! he match thi background colour i'm seem...   \n",
       "2  hei man, i'm realli not try to edit war. it' j...   \n",
       "3  \" more i can't make ani real suggest on improv...   \n",
       "4  you, sir, ar my hero. ani chanc you rememb wha...   \n",
       "\n",
       "                                  cleaned_model_text  \\\n",
       "0  explanation edits username hardcore metallica ...   \n",
       "1  daww matches background colour seemingly stuck...   \n",
       "2  hey man trying edit war guy constantly removin...   \n",
       "3  real suggestions improvement wondered section ...   \n",
       "4                      sir hero chance remember page   \n",
       "\n",
       "                                     stem_model_text num_words target_label  \\\n",
       "0  explan why the edit made under my usernam hard...        25      [clean]   \n",
       "1  d'aww! he match thi background colour i'm seem...        13      [clean]   \n",
       "2  hei man, i'm realli not try to edit war. it' j...        19      [clean]   \n",
       "3  \" more i can't make ani real suggest on improv...        38      [clean]   \n",
       "4  you, sir, ar my hero. ani chanc you rememb wha...         5      [clean]   \n",
       "\n",
       "  num_label  \n",
       "0       [0]  \n",
       "1       [0]  \n",
       "2       [0]  \n",
       "3       [0]  \n",
       "4       [0]  \n",
       "\n",
       "[5 rows x 23 columns]"
      ]
     },
     "execution_count": 5,
     "metadata": {},
     "output_type": "execute_result"
    }
   ],
   "source": [
    "# Look at data\n",
    "data.head()"
   ]
  },
  {
   "cell_type": "code",
   "execution_count": 6,
   "metadata": {},
   "outputs": [
    {
     "data": {
      "text/plain": [
       "id                        0\n",
       "comment_text              0\n",
       "toxic                     0\n",
       "severe_toxic              0\n",
       "obscene                   0\n",
       "threat                    0\n",
       "insult                    0\n",
       "identity_hate             0\n",
       "harmful                   0\n",
       "cleaned                   0\n",
       "stemmed                   0\n",
       "model_text                0\n",
       "model_text_bi             0\n",
       "model_text_tri            0\n",
       "model_text_bi_tri         0\n",
       "stem_model_text_bi        0\n",
       "stem_model_text_tri       0\n",
       "stem_model_text_bi_tri    0\n",
       "cleaned_model_text        0\n",
       "stem_model_text           0\n",
       "num_words                 0\n",
       "target_label              0\n",
       "num_label                 0\n",
       "dtype: int64"
      ]
     },
     "execution_count": 6,
     "metadata": {},
     "output_type": "execute_result"
    }
   ],
   "source": [
    "# Look at nulls\n",
    "data.isnull().sum()"
   ]
  },
  {
   "cell_type": "code",
   "execution_count": 7,
   "metadata": {},
   "outputs": [
    {
     "data": {
      "text/plain": [
       "(159571, 23)"
      ]
     },
     "execution_count": 7,
     "metadata": {},
     "output_type": "execute_result"
    }
   ],
   "source": [
    "# View shape of data\n",
    "data.shape"
   ]
  },
  {
   "cell_type": "markdown",
   "metadata": {},
   "source": [
    "## Class imbalance: undersample majority class non-toxic"
   ]
  },
  {
   "cell_type": "code",
   "execution_count": 8,
   "metadata": {},
   "outputs": [
    {
     "data": {
      "text/plain": [
       "0    143346\n",
       "1     16225\n",
       "Name: harmful, dtype: int64"
      ]
     },
     "execution_count": 8,
     "metadata": {},
     "output_type": "execute_result"
    }
   ],
   "source": [
    "# View class distribution for toxic and non-toxic comments\n",
    "data.harmful.value_counts()"
   ]
  },
  {
   "cell_type": "code",
   "execution_count": 9,
   "metadata": {},
   "outputs": [],
   "source": [
    "# Separate data into harmful comments and non-harmful comments\n",
    "clean_data = data[data.harmful == 0]\n",
    "harmful_data = data[data.harmful == 1]"
   ]
  },
  {
   "cell_type": "code",
   "execution_count": 10,
   "metadata": {},
   "outputs": [
    {
     "name": "stdout",
     "output_type": "stream",
     "text": [
      "0    143346\n",
      "Name: harmful, dtype: int64\n",
      "1    16225\n",
      "Name: harmful, dtype: int64\n"
     ]
    }
   ],
   "source": [
    "print(clean_data.harmful.value_counts())\n",
    "print(harmful_data.harmful.value_counts())"
   ]
  },
  {
   "cell_type": "code",
   "execution_count": 11,
   "metadata": {
    "scrolled": true
   },
   "outputs": [],
   "source": [
    "maj_class = clean_data.sample(frac=0.113)"
   ]
  },
  {
   "cell_type": "code",
   "execution_count": 12,
   "metadata": {},
   "outputs": [
    {
     "data": {
      "text/plain": [
       "16198"
      ]
     },
     "execution_count": 12,
     "metadata": {},
     "output_type": "execute_result"
    }
   ],
   "source": [
    "len(maj_class)"
   ]
  },
  {
   "cell_type": "code",
   "execution_count": 13,
   "metadata": {},
   "outputs": [],
   "source": [
    "data_us = pd.concat([maj_class, harmful_data], axis=0)"
   ]
  },
  {
   "cell_type": "code",
   "execution_count": 14,
   "metadata": {},
   "outputs": [
    {
     "data": {
      "text/plain": [
       "1    16225\n",
       "0    16198\n",
       "Name: harmful, dtype: int64"
      ]
     },
     "execution_count": 14,
     "metadata": {},
     "output_type": "execute_result"
    }
   ],
   "source": [
    "data_us.harmful.value_counts()"
   ]
  },
  {
   "cell_type": "markdown",
   "metadata": {},
   "source": [
    "## Split data into train, test, validate"
   ]
  },
  {
   "cell_type": "code",
   "execution_count": 15,
   "metadata": {},
   "outputs": [],
   "source": [
    "# Choose X, y\n",
    "X = data_us.iloc[:,18]\n",
    "y = data_us.iloc[:,8]"
   ]
  },
  {
   "cell_type": "code",
   "execution_count": 16,
   "metadata": {},
   "outputs": [],
   "source": [
    "# Split data into train, validate\n",
    "X_1, X_validate, y_1, y_validate = train_test_split(X, y, test_size=0.3, random_state=1)\n",
    "\n",
    "# Split train into train, test\n",
    "X_train, X_test, y_train, y_test = train_test_split(X_1, y_1, test_size=0.3, random_state=1)"
   ]
  },
  {
   "cell_type": "code",
   "execution_count": 17,
   "metadata": {},
   "outputs": [],
   "source": [
    "# Create list of model and accuracy dicts\n",
    "list_of_perform = []\n",
    "\n",
    "# List to keep track of models\n",
    "models = []\n",
    "\n",
    "# List to keep track of y_scores\n",
    "y_scores = []"
   ]
  },
  {
   "cell_type": "markdown",
   "metadata": {},
   "source": [
    "## TF-IDF"
   ]
  },
  {
   "cell_type": "code",
   "execution_count": 18,
   "metadata": {},
   "outputs": [],
   "source": [
    "# Instantiate TF-IDF Vectorizer\n",
    "tfidf_vectorizer = TfidfVectorizer(sublinear_tf=True, max_df=0.5, stop_words='english')"
   ]
  },
  {
   "cell_type": "code",
   "execution_count": 19,
   "metadata": {},
   "outputs": [],
   "source": [
    "# Fit / transform vectorizer\n",
    "X_train = tfidf_vectorizer.fit_transform(X_train.values.astype('U'))\n",
    "X_test = tfidf_vectorizer.transform(X_test.values.astype('U'))\n",
    "\n",
    "X_validate = tfidf_vectorizer.transform(X_validate.values.astype('U'))"
   ]
  },
  {
   "cell_type": "markdown",
   "metadata": {},
   "source": [
    "## 1 - Logistic Regression"
   ]
  },
  {
   "cell_type": "markdown",
   "metadata": {},
   "source": [
    "### 1 - A) Logistic Regression Baseline Model"
   ]
  },
  {
   "cell_type": "code",
   "execution_count": 20,
   "metadata": {},
   "outputs": [
    {
     "name": "stdout",
     "output_type": "stream",
     "text": [
      "Accuracy of log reg baseline (TRAIN): 0.88 +/- 0.0\n",
      "Accuracy of log reg baseline (TEST): 0.88\n",
      "\n",
      "Precision : 0.8871879731212882\n",
      "Recall    : 0.8850512881662924\n",
      "F-score   : 0.8845842616953643\n"
     ]
    }
   ],
   "source": [
    "# Instantiate model\n",
    "lr_baseline = LogisticRegression(random_state=1)\n",
    "\n",
    "# Calculate accuracy of train\n",
    "lr_base_acc = cross_val_score(lr_baseline, X_train, y_train).mean()\n",
    "lr_base_std = cross_val_score(lr_baseline, X_train, y_train).std()\n",
    "print('Accuracy of log reg baseline (TRAIN): {} +/- {}'.format(round(lr_base_acc, 2), round(lr_base_std, 2)))\n",
    "\n",
    "# Fit model\n",
    "lr_baseline.fit(X_train, y_train)\n",
    "\n",
    "# Get predictions and probabilities\n",
    "lr_base_preds = lr_baseline.predict(X_test)\n",
    "lr_base_y_score = lr_baseline.predict_proba(X_test)\n",
    "\n",
    "# Calculate accuracy of test\n",
    "lr_base_acc_test = round(accuracy_score(y_test, lr_base_preds), 2)\n",
    "print(f'Accuracy of log reg baseline (TEST): {lr_base_acc_test}')\n",
    "\n",
    "print()\n",
    "\n",
    "# Get precision, recall, f1-score\n",
    "precision, recall, fscore, support = score(y_test, lr_base_preds, average='macro')\n",
    "print(f'Precision : {precision}')\n",
    "print(f'Recall    : {recall}')\n",
    "print(f'F-score   : {fscore}')\n",
    "\n",
    "# Add model and accuracy dict to list\n",
    "list_of_perform.append(dict([\n",
    "    ('Model', 'LogReg Base'),\n",
    "    ('Train Accuracy', round(lr_base_acc, 2)),\n",
    "    ('Test Accuracy', lr_base_acc_test),\n",
    "    ('Precision', round(precision, 2)),\n",
    "    ('Recall', round(recall, 2)),\n",
    "    ('F1', round(fscore, 2))\n",
    "     ]))\n",
    "\n",
    "# Add model to list\n",
    "models.append('LogReg Base')\n",
    "\n",
    "# Add y_score to list\n",
    "y_scores.append(lr_base_y_score)"
   ]
  },
  {
   "cell_type": "markdown",
   "metadata": {},
   "source": [
    "### 1 - B) Random Search Logistic Regression"
   ]
  },
  {
   "cell_type": "code",
   "execution_count": 21,
   "metadata": {},
   "outputs": [
    {
     "name": "stdout",
     "output_type": "stream",
     "text": [
      "[1e-10, 1e-09, 1e-08, 1e-07, 1e-06, 1e-05, 0.0001, 0.001, 0.01, 0.1, 1, 100, 1000] [1e-10, 1e-09, 1e-08, 1e-07, 1e-06, 1e-05, 0.0001, 0.001, 0.01, 0.1, 1, 100, 1000, 10000] [True, False]\n"
     ]
    }
   ],
   "source": [
    "# Define the parameter values that should be searched\n",
    "tol_range = [1e-10, 1e-9, 1e-8, 1e-7, 1e-6, 1e-5, 1e-4, 1e-3, 0.01, 0.1, 1, 100, 1000]\n",
    "C_range = [1e-10, 1e-9, 1e-8, 1e-7, 1e-6, 1e-5, 1e-4, 1e-3, 0.01, 0.1, 1, 100, 1000, 10000]\n",
    "fit_intercept_range = [True, False]\n",
    "\n",
    "print(tol_range,\n",
    "      C_range,\n",
    "      fit_intercept_range)"
   ]
  },
  {
   "cell_type": "code",
   "execution_count": 22,
   "metadata": {},
   "outputs": [
    {
     "name": "stdout",
     "output_type": "stream",
     "text": [
      "{'tol': [1e-10, 1e-09, 1e-08, 1e-07, 1e-06, 1e-05, 0.0001, 0.001, 0.01, 0.1, 1, 100, 1000], 'C': [1e-10, 1e-09, 1e-08, 1e-07, 1e-06, 1e-05, 0.0001, 0.001, 0.01, 0.1, 1, 100, 1000, 10000], 'fit_intercept': [True, False]}\n"
     ]
    }
   ],
   "source": [
    "# Create a parameter grid: map the parameter names to the values that should be searched\n",
    "param_rand = dict(tol=tol_range,\n",
    "                  C=C_range,\n",
    "                  fit_intercept=fit_intercept_range,)\n",
    "print(param_rand)"
   ]
  },
  {
   "cell_type": "code",
   "execution_count": 23,
   "metadata": {},
   "outputs": [
    {
     "data": {
      "text/plain": [
       "RandomizedSearchCV(cv=None, error_score='raise',\n",
       "          estimator=LogisticRegression(C=1.0, class_weight=None, dual=False, fit_intercept=True,\n",
       "          intercept_scaling=1, max_iter=100, multi_class='ovr', n_jobs=1,\n",
       "          penalty='l2', random_state=1, solver='liblinear', tol=0.0001,\n",
       "          verbose=0, warm_start=False),\n",
       "          fit_params=None, iid=True, n_iter=60, n_jobs=1,\n",
       "          param_distributions={'tol': [1e-10, 1e-09, 1e-08, 1e-07, 1e-06, 1e-05, 0.0001, 0.001, 0.01, 0.1, 1, 100, 1000], 'C': [1e-10, 1e-09, 1e-08, 1e-07, 1e-06, 1e-05, 0.0001, 0.001, 0.01, 0.1, 1, 100, 1000, 10000], 'fit_intercept': [True, False]},\n",
       "          pre_dispatch='2*n_jobs', random_state=None, refit=True,\n",
       "          return_train_score='warn', scoring=None, verbose=0)"
      ]
     },
     "execution_count": 23,
     "metadata": {},
     "output_type": "execute_result"
    }
   ],
   "source": [
    "# Choose number of searches\n",
    "n_iter_search = 60\n",
    "\n",
    "# Instantiate the model\n",
    "lr_random_search = RandomizedSearchCV(lr_baseline, param_distributions=param_rand, n_iter=n_iter_search)\n",
    "\n",
    "# Fit the model\n",
    "lr_random_search.fit(X_train, y_train)"
   ]
  },
  {
   "cell_type": "code",
   "execution_count": 24,
   "metadata": {},
   "outputs": [
    {
     "name": "stdout",
     "output_type": "stream",
     "text": [
      "Best parameters found:\n",
      "\n",
      "{'tol': 0.001, 'fit_intercept': True, 'C': 100}\n"
     ]
    }
   ],
   "source": [
    "# View best parameter\n",
    "print('Best parameters found:')\n",
    "print()\n",
    "print(lr_random_search.best_params_)"
   ]
  },
  {
   "cell_type": "code",
   "execution_count": 25,
   "metadata": {},
   "outputs": [],
   "source": [
    "# View the complete results\n",
    "#lr_grid.grid_scores_"
   ]
  },
  {
   "cell_type": "markdown",
   "metadata": {},
   "source": [
    "### 1 - C) Logistic Regression Optimized w/ Random Search"
   ]
  },
  {
   "cell_type": "code",
   "execution_count": 26,
   "metadata": {},
   "outputs": [
    {
     "name": "stdout",
     "output_type": "stream",
     "text": [
      "Accuracy of log reg optimized (TRAIN): 0.88 +/- 0.0\n",
      "Accuracy of log reg optimized (TEST): 0.88\n",
      "\n",
      "Precision : 0.8838502581657435\n",
      "Recall    : 0.8832868931047002\n",
      "F-score   : 0.8830680960701645\n"
     ]
    }
   ],
   "source": [
    "# Instantiate model\n",
    "lr_opt = LogisticRegression(tol=0.001, C=100, fit_intercept=True, random_state=1)\n",
    "\n",
    "# Calculate accuracy of train\n",
    "lr_opt_acc = cross_val_score(lr_opt, X_train, y_train).mean()\n",
    "lr_opt_std = cross_val_score(lr_opt, X_train, y_train).std()\n",
    "print('Accuracy of log reg optimized (TRAIN): {} +/- {}'.format(round(lr_opt_acc, 2), round(lr_opt_std, 2)))\n",
    "\n",
    "# Fit model\n",
    "lr_opt.fit(X_train, y_train)\n",
    "\n",
    "# Get predictions and probabilities\n",
    "lr_opt_preds = lr_opt.predict(X_test)\n",
    "lr_opt_y_score = lr_opt.predict_proba(X_test)\n",
    "\n",
    "# Calculate accuracy of test\n",
    "lr_opt_acc_test = round(accuracy_score(y_test, lr_opt_preds), 2)\n",
    "print(f'Accuracy of log reg optimized (TEST): {lr_opt_acc_test}')\n",
    "\n",
    "print()\n",
    "\n",
    "# Get precision, recall, f1-score\n",
    "precision, recall, fscore, support = score(y_test, lr_opt_preds, average='macro')\n",
    "print(f'Precision : {precision}')\n",
    "print(f'Recall    : {recall}')\n",
    "print(f'F-score   : {fscore}')\n",
    "\n",
    "# Add model and accuracy dict to list\n",
    "list_of_perform.append(dict([\n",
    "    ('Model', 'LogReg Opt GS'),\n",
    "    ('Train Accuracy', round(lr_opt_acc, 2)),\n",
    "    ('Test Accuracy', lr_opt_acc_test),\n",
    "    ('Precision', round(precision, 2)),\n",
    "    ('Recall', round(recall, 2)),\n",
    "    ('F1', round(fscore, 2))\n",
    "     ]))\n",
    "\n",
    "# Add model to list\n",
    "models.append('LogReg Opt RS')\n",
    "\n",
    "# Add y_score to list\n",
    "y_scores.append(lr_opt_y_score)"
   ]
  },
  {
   "cell_type": "markdown",
   "metadata": {},
   "source": [
    "## 2 - KNN"
   ]
  },
  {
   "cell_type": "markdown",
   "metadata": {},
   "source": [
    "### 2 - A) KNN Baseline Model"
   ]
  },
  {
   "cell_type": "code",
   "execution_count": 27,
   "metadata": {},
   "outputs": [
    {
     "name": "stdout",
     "output_type": "stream",
     "text": [
      "Accuracy of KNN baseline (TRAIN): 0.61 +/- 0.11\n",
      "Accuracy of KNN baseline (TEST): 0.55\n",
      "\n",
      "Precision : 0.5581402831402831\n",
      "Recall    : 0.5471636372233258\n",
      "F-score   : 0.5257158132939996\n"
     ]
    }
   ],
   "source": [
    "# Instantiate model\n",
    "neigh_base = KNeighborsClassifier()\n",
    "\n",
    "# Calculate accuracy of train\n",
    "neigh_base_acc = cross_val_score(neigh_base, X_train, y_train).mean()\n",
    "neigh_base_std = cross_val_score(neigh_base, X_train, y_train).std()\n",
    "print('Accuracy of KNN baseline (TRAIN): {} +/- {}'.format(round(neigh_base_acc, 2), round(neigh_base_std, 2)))\n",
    "\n",
    "# Fit model\n",
    "neigh_base.fit(X_train, y_train)\n",
    "\n",
    "# Get predictions and probabilities\n",
    "neigh_base_preds = neigh_base.predict(X_test)\n",
    "neigh_base_y_score = neigh_base.predict_proba(X_test)\n",
    "\n",
    "# Calculate accuracy of test\n",
    "neigh_base_acc_test = round(accuracy_score(y_test, neigh_base_preds), 2)\n",
    "print(f'Accuracy of KNN baseline (TEST): {neigh_base_acc_test}')\n",
    "\n",
    "print()\n",
    "\n",
    "# Get precision, recall, f1-score\n",
    "precision, recall, fscore, support = score(y_test, neigh_base_preds, average='macro')\n",
    "print(f'Precision : {precision}')\n",
    "print(f'Recall    : {recall}')\n",
    "print(f'F-score   : {fscore}')\n",
    "\n",
    "# Add model and accuracy dict to list\n",
    "list_of_perform.append(dict([\n",
    "    ('Model', 'KNN Base'),\n",
    "    ('Train Accuracy', round(neigh_base_acc, 2)),\n",
    "    ('Test Accuracy', neigh_base_acc_test),\n",
    "    ('Precision', round(precision, 2)),\n",
    "    ('Recall', round(recall, 2)),\n",
    "    ('F1', round(fscore, 2))\n",
    "     ]))\n",
    "\n",
    "# Add model to list\n",
    "models.append('KNN Base')\n",
    "\n",
    "# Add y_score to list\n",
    "y_scores.append(neigh_base_y_score)"
   ]
  },
  {
   "cell_type": "markdown",
   "metadata": {},
   "source": [
    "### 2 - B) Grid Search KNN"
   ]
  },
  {
   "cell_type": "code",
   "execution_count": 28,
   "metadata": {},
   "outputs": [
    {
     "name": "stdout",
     "output_type": "stream",
     "text": [
      "[2, 3, 4, 5, 6, 7, 8, 9, 10] ['uniform', 'distance']\n"
     ]
    }
   ],
   "source": [
    "# Define parameters that should be searched\n",
    "n_neighbors_range = [2, 3, 4, 5, 6, 7, 8, 9, 10]\n",
    "weights_range = ['uniform', 'distance']\n",
    "\n",
    "print(n_neighbors_range,\n",
    "      weights_range)"
   ]
  },
  {
   "cell_type": "code",
   "execution_count": 29,
   "metadata": {},
   "outputs": [
    {
     "name": "stdout",
     "output_type": "stream",
     "text": [
      "{'n_neighbors': [2, 3, 4, 5, 6, 7, 8, 9, 10], 'weights': ['uniform', 'distance']}\n"
     ]
    }
   ],
   "source": [
    "# Create a parameter grid: map the parameter names to the values that should be searched\n",
    "param_grid = dict(n_neighbors=n_neighbors_range,\n",
    "                  weights=weights_range)\n",
    "\n",
    "print(param_grid)"
   ]
  },
  {
   "cell_type": "code",
   "execution_count": 30,
   "metadata": {},
   "outputs": [
    {
     "data": {
      "text/plain": [
       "GridSearchCV(cv=None, error_score='raise',\n",
       "       estimator=KNeighborsClassifier(algorithm='auto', leaf_size=30, metric='minkowski',\n",
       "           metric_params=None, n_jobs=1, n_neighbors=5, p=2,\n",
       "           weights='uniform'),\n",
       "       fit_params=None, iid=True, n_jobs=1,\n",
       "       param_grid={'n_neighbors': [2, 3, 4, 5, 6, 7, 8, 9, 10], 'weights': ['uniform', 'distance']},\n",
       "       pre_dispatch='2*n_jobs', refit=True, return_train_score='warn',\n",
       "       scoring=None, verbose=0)"
      ]
     },
     "execution_count": 30,
     "metadata": {},
     "output_type": "execute_result"
    }
   ],
   "source": [
    "# Instantiate the model\n",
    "knn_grid_search = GridSearchCV(neigh_base, param_grid)\n",
    "\n",
    "# Fit the model\n",
    "knn_grid_search.fit(X_train, y_train)"
   ]
  },
  {
   "cell_type": "code",
   "execution_count": 31,
   "metadata": {},
   "outputs": [
    {
     "name": "stdout",
     "output_type": "stream",
     "text": [
      "Best parameters found:\n",
      "\n",
      "{'n_neighbors': 10, 'weights': 'uniform'}\n"
     ]
    }
   ],
   "source": [
    "# View best parameters\n",
    "print('Best parameters found:')\n",
    "print()\n",
    "print(knn_grid_search.best_params_)"
   ]
  },
  {
   "cell_type": "markdown",
   "metadata": {},
   "source": [
    "### 2 - C) KNN Optimized w/ Grid Search"
   ]
  },
  {
   "cell_type": "code",
   "execution_count": 32,
   "metadata": {},
   "outputs": [
    {
     "name": "stdout",
     "output_type": "stream",
     "text": [
      "Accuracy of KNN optimized (TRAIN): 0.77 +/- 0.04\n",
      "Accuracy of KNN optimized (TEST): 0.78\n",
      "\n",
      "Precision : 0.7791193429609768\n",
      "Recall    : 0.777492043008823\n",
      "F-score   : 0.7773902894312572\n"
     ]
    }
   ],
   "source": [
    "# Instantiate the model\n",
    "knn_opt = KNeighborsClassifier(n_neighbors=10, weights='uniform')\n",
    "\n",
    "# Calculate accuracy of train\n",
    "knn_opt_acc = cross_val_score(knn_opt, X_train, y_train).mean()\n",
    "knn_opt_std = cross_val_score(knn_opt, X_train, y_train).std()\n",
    "print('Accuracy of KNN optimized (TRAIN): {} +/- {}'.format(round(knn_opt_acc, 2), round(knn_opt_std, 2)))\n",
    "\n",
    "# Fit model\n",
    "knn_opt.fit(X_train, y_train)\n",
    "\n",
    "# Get predictions and probabilities\n",
    "knn_opt_preds = knn_opt.predict(X_test)\n",
    "knn_opt_y_score = knn_opt.predict_proba(X_test)\n",
    "\n",
    "# Calculate accuracy of test\n",
    "knn_opt_acc_test = round(accuracy_score(y_test, knn_opt_preds), 2)\n",
    "print(f'Accuracy of KNN optimized (TEST): {knn_opt_acc_test}')\n",
    "\n",
    "print()\n",
    "\n",
    "# Get precision, recall, f1-score\n",
    "precision, recall, fscore, support = score(y_test, knn_opt_preds, average='macro')\n",
    "print(f'Precision : {precision}')\n",
    "print(f'Recall    : {recall}')\n",
    "print(f'F-score   : {fscore}')\n",
    "\n",
    "# Add model and accuracy dict to list\n",
    "list_of_perform.append(dict([\n",
    "    ('Model', 'KNN Opt GS'),\n",
    "    ('Train Accuracy', round(knn_opt_acc, 2)),\n",
    "    ('Test Accuracy', knn_opt_acc_test),\n",
    "    ('Precision', round(precision, 2)),\n",
    "    ('Recall', round(recall, 2)),\n",
    "    ('F1', round(fscore, 2))\n",
    "     ]))\n",
    "\n",
    "# Add model to list\n",
    "models.append('KNN Opt GS')\n",
    "\n",
    "# Add y_score to list\n",
    "y_scores.append(knn_opt_y_score)"
   ]
  },
  {
   "cell_type": "markdown",
   "metadata": {},
   "source": [
    "## 3 - Decision Tree"
   ]
  },
  {
   "cell_type": "markdown",
   "metadata": {},
   "source": [
    "### 3 - A) Decision Tree Baseline Model"
   ]
  },
  {
   "cell_type": "code",
   "execution_count": 33,
   "metadata": {},
   "outputs": [
    {
     "name": "stdout",
     "output_type": "stream",
     "text": [
      "Accuracy of Decision Tree baseline (TRAIN): 0.82 +/- 0.01\n",
      "Accuracy of Decision Tree baseline (TEST): 0.82\n",
      "\n",
      "Precision : 0.822306789238407\n",
      "Recall    : 0.8213516997002883\n",
      "F-score   : 0.8213799495096978\n"
     ]
    }
   ],
   "source": [
    "# Instantiate the model\n",
    "dt_base = DecisionTreeClassifier(random_state=1)\n",
    "\n",
    "# Calculate accuracy of train\n",
    "dt_base_acc = cross_val_score(dt_base, X_train, y_train).mean()\n",
    "dt_base_std = cross_val_score(dt_base, X_train, y_train).std()\n",
    "print('Accuracy of Decision Tree baseline (TRAIN): {} +/- {}'.format(round(dt_base_acc, 2), round(dt_base_std, 2)))\n",
    "\n",
    "# Fit model\n",
    "dt_base.fit(X_train, y_train)\n",
    "\n",
    "# Get predictions and probabilities\n",
    "dt_base_preds = dt_base.predict(X_test)\n",
    "dt_base_y_score = dt_base.predict_proba(X_test)\n",
    "\n",
    "# Calculate accuracy of test\n",
    "dt_base_acc = round(accuracy_score(y_test, dt_base_preds), 2)\n",
    "print(f'Accuracy of Decision Tree baseline (TEST): {dt_base_acc}')\n",
    "\n",
    "print()\n",
    "\n",
    "# Get precision, recall, f1-score\n",
    "precision, recall, fscore, support = score(y_test, dt_base_preds, average='macro')\n",
    "print(f'Precision : {precision}')\n",
    "print(f'Recall    : {recall}')\n",
    "print(f'F-score   : {fscore}')\n",
    "\n",
    "# Add model and accuracy dict to list\n",
    "list_of_perform.append(dict([\n",
    "    ('Model', 'DecTree Base'),\n",
    "    ('Train Accuracy', round(dt_base_acc, 2)),\n",
    "    ('Test Accuracy', dt_base_acc),\n",
    "    ('Precision', round(precision, 2)),\n",
    "    ('Recall', round(recall, 2)),\n",
    "    ('F1', round(fscore, 2))\n",
    "     ]))\n",
    "\n",
    "# Add model to list\n",
    "models.append('DecTree Base')\n",
    "\n",
    "# Add y_score to list\n",
    "y_scores.append(dt_base_y_score)"
   ]
  },
  {
   "cell_type": "markdown",
   "metadata": {},
   "source": [
    "## 4 - Random Forest Classifier"
   ]
  },
  {
   "cell_type": "markdown",
   "metadata": {},
   "source": [
    "### 4 - A) Random Forest Baseline Model"
   ]
  },
  {
   "cell_type": "code",
   "execution_count": 34,
   "metadata": {},
   "outputs": [
    {
     "name": "stdout",
     "output_type": "stream",
     "text": [
      "Accuracy of Random Forest baseline (TRAIN): 0.83 +/- 0.01\n",
      "Accuracy of Random Forest baseline (TEST): 0.83\n",
      "\n",
      "Precision : 0.8400528140161773\n",
      "Recall    : 0.8312172211998681\n",
      "F-score   : 0.8295203145774102\n"
     ]
    }
   ],
   "source": [
    "# Instantiate the model\n",
    "rf_base = RandomForestClassifier(random_state=1)\n",
    "\n",
    "# Calculate accuracy of train\n",
    "rf_base_acc = cross_val_score(rf_base, X_train, y_train).mean()\n",
    "rf_base_std = cross_val_score(rf_base, X_train, y_train).std()\n",
    "print('Accuracy of Random Forest baseline (TRAIN): {} +/- {}'.format(round(rf_base_acc, 2), round(rf_base_std, 2)))\n",
    "\n",
    "# Fit model\n",
    "rf_base.fit(X_train, y_train)\n",
    "\n",
    "# Get predictions and probabilities\n",
    "rf_base_preds = rf_base.predict(X_test)\n",
    "rf_base_y_score = rf_base.predict_proba(X_test)\n",
    "\n",
    "# Calculate accuracy of test\n",
    "rf_base_acc_test = round(accuracy_score(y_test, rf_base_preds), 2)\n",
    "print(f'Accuracy of Random Forest baseline (TEST): {rf_base_acc_test}')\n",
    "\n",
    "print()\n",
    "\n",
    "# Get precision, recall, f1-score\n",
    "precision, recall, fscore, support = score(y_test, rf_base_preds, average='macro')\n",
    "print(f'Precision : {precision}')\n",
    "print(f'Recall    : {recall}')\n",
    "print(f'F-score   : {fscore}')\n",
    "\n",
    "# Add model and accuracy dict to list\n",
    "list_of_perform.append(dict([\n",
    "    ('Model', 'RandFor Base'),\n",
    "    ('Train Accuracy', round(rf_base_acc, 2)),\n",
    "    ('Test Accuracy', rf_base_acc_test),\n",
    "    ('Precision', round(precision, 2)),\n",
    "    ('Recall', round(recall, 2)),\n",
    "    ('F1', round(fscore, 2))\n",
    "     ]))\n",
    "\n",
    "# Add model to list\n",
    "models.append('RandFor Base')\n",
    "\n",
    "# Add y_score to list\n",
    "y_scores.append(rf_base_y_score)"
   ]
  },
  {
   "cell_type": "markdown",
   "metadata": {},
   "source": [
    "# Part 3: Performance"
   ]
  },
  {
   "cell_type": "markdown",
   "metadata": {},
   "source": [
    "### Accuracy"
   ]
  },
  {
   "cell_type": "code",
   "execution_count": 35,
   "metadata": {},
   "outputs": [
    {
     "data": {
      "text/html": [
       "<div>\n",
       "<style scoped>\n",
       "    .dataframe tbody tr th:only-of-type {\n",
       "        vertical-align: middle;\n",
       "    }\n",
       "\n",
       "    .dataframe tbody tr th {\n",
       "        vertical-align: top;\n",
       "    }\n",
       "\n",
       "    .dataframe thead th {\n",
       "        text-align: right;\n",
       "    }\n",
       "</style>\n",
       "<table border=\"1\" class=\"dataframe\">\n",
       "  <thead>\n",
       "    <tr style=\"text-align: right;\">\n",
       "      <th></th>\n",
       "      <th>Model</th>\n",
       "      <th>Train Accuracy</th>\n",
       "      <th>Test Accuracy</th>\n",
       "      <th>Precision</th>\n",
       "      <th>Recall</th>\n",
       "      <th>F1</th>\n",
       "    </tr>\n",
       "  </thead>\n",
       "  <tbody>\n",
       "    <tr>\n",
       "      <th>0</th>\n",
       "      <td>LogReg Base</td>\n",
       "      <td>0.88</td>\n",
       "      <td>0.88</td>\n",
       "      <td>0.89</td>\n",
       "      <td>0.89</td>\n",
       "      <td>0.88</td>\n",
       "    </tr>\n",
       "    <tr>\n",
       "      <th>1</th>\n",
       "      <td>LogReg Opt GS</td>\n",
       "      <td>0.88</td>\n",
       "      <td>0.88</td>\n",
       "      <td>0.88</td>\n",
       "      <td>0.88</td>\n",
       "      <td>0.88</td>\n",
       "    </tr>\n",
       "    <tr>\n",
       "      <th>2</th>\n",
       "      <td>KNN Base</td>\n",
       "      <td>0.61</td>\n",
       "      <td>0.55</td>\n",
       "      <td>0.56</td>\n",
       "      <td>0.55</td>\n",
       "      <td>0.53</td>\n",
       "    </tr>\n",
       "    <tr>\n",
       "      <th>3</th>\n",
       "      <td>KNN Opt GS</td>\n",
       "      <td>0.77</td>\n",
       "      <td>0.78</td>\n",
       "      <td>0.78</td>\n",
       "      <td>0.78</td>\n",
       "      <td>0.78</td>\n",
       "    </tr>\n",
       "    <tr>\n",
       "      <th>4</th>\n",
       "      <td>DecTree Base</td>\n",
       "      <td>0.82</td>\n",
       "      <td>0.82</td>\n",
       "      <td>0.82</td>\n",
       "      <td>0.82</td>\n",
       "      <td>0.82</td>\n",
       "    </tr>\n",
       "    <tr>\n",
       "      <th>5</th>\n",
       "      <td>RandFor Base</td>\n",
       "      <td>0.83</td>\n",
       "      <td>0.83</td>\n",
       "      <td>0.84</td>\n",
       "      <td>0.83</td>\n",
       "      <td>0.83</td>\n",
       "    </tr>\n",
       "  </tbody>\n",
       "</table>\n",
       "</div>"
      ],
      "text/plain": [
       "           Model  Train Accuracy  Test Accuracy  Precision  Recall    F1\n",
       "0    LogReg Base            0.88           0.88       0.89    0.89  0.88\n",
       "1  LogReg Opt GS            0.88           0.88       0.88    0.88  0.88\n",
       "2       KNN Base            0.61           0.55       0.56    0.55  0.53\n",
       "3     KNN Opt GS            0.77           0.78       0.78    0.78  0.78\n",
       "4   DecTree Base            0.82           0.82       0.82    0.82  0.82\n",
       "5   RandFor Base            0.83           0.83       0.84    0.83  0.83"
      ]
     },
     "execution_count": 35,
     "metadata": {},
     "output_type": "execute_result"
    }
   ],
   "source": [
    "model_perf = pd.DataFrame(data=list_of_perform)\n",
    "model_perf = model_perf[['Model', 'Train Accuracy', 'Test Accuracy', 'Precision', 'Recall', 'F1']]\n",
    "#model_perf.drop_duplicates(inplace=True)\n",
    "model_perf"
   ]
  },
  {
   "cell_type": "markdown",
   "metadata": {},
   "source": [
    "### Plot ROC Curve"
   ]
  },
  {
   "cell_type": "code",
   "execution_count": 36,
   "metadata": {},
   "outputs": [
    {
     "data": {
      "text/plain": [
       "['LogReg Base',\n",
       " 'LogReg Opt RS',\n",
       " 'KNN Base',\n",
       " 'KNN Opt GS',\n",
       " 'DecTree Base',\n",
       " 'RandFor Base']"
      ]
     },
     "execution_count": 36,
     "metadata": {},
     "output_type": "execute_result"
    }
   ],
   "source": [
    "models\n",
    "# y_scores"
   ]
  },
  {
   "cell_type": "code",
   "execution_count": 41,
   "metadata": {},
   "outputs": [],
   "source": [
    "def plot_roc_curves():\n",
    "    plt.figure(figsize=(10,6))\n",
    "    lw = 2\n",
    "    \n",
    "    # Logistic Regression Baseline\n",
    "    fpr, tpr, thresholds = roc_curve(y_test, lr_base_y_score[:,1], pos_label=1)\n",
    "    auc_lr = roc_auc_score(y_test, lr_base_y_score[:,1])\n",
    "    plt.plot(fpr, tpr, color='r',\n",
    "             lw=lw, label='LR Baseline, auc=%.3f' % auc_lr)\n",
    "        \n",
    "    # Logistic Regression w/ Random Search\n",
    "    fpr, tpr, thresholds = roc_curve(y_test, lr_opt_y_score[:,1], pos_label=1)\n",
    "    auc_lr_opt = roc_auc_score(y_test, lr_opt_y_score[:,1])\n",
    "    plt.plot(fpr, tpr, color='darkorange',\n",
    "             lw=lw, label='LR Optimized, auc=%.3f' % auc_lr_opt)\n",
    "        \n",
    "    # KNN Baseline\n",
    "    fpr, tpr, thresholds = roc_curve(y_test, neigh_base_y_score[:,1], pos_label=1)\n",
    "    auc_knn = roc_auc_score(y_test, neigh_base_y_score[:,1])\n",
    "    plt.plot(fpr, tpr, color='y',\n",
    "             lw=lw, label='KNN Baseline, auc=%.3f' % auc_knn)\n",
    "    \n",
    "    # KNN w/ Grid Search\n",
    "    fpr, tpr, thresholds = roc_curve(y_test, knn_opt_y_score[:,1], pos_label=1)\n",
    "    auc_knn_opt = roc_auc_score(y_test, knn_opt_y_score[:,1])\n",
    "    plt.plot(fpr, tpr, color='chartreuse',\n",
    "             lw=lw, label='KNN Optimized, auc=%.3f' % auc_knn_opt)\n",
    "    \n",
    "    # Decision Tree Baseline\n",
    "    fpr, tpr, thresholds = roc_curve(y_test, dt_base_y_score[:,1], pos_label=1)\n",
    "    auc_dt_base = roc_auc_score(y_test, dt_base_y_score[:,1])\n",
    "    plt.plot(fpr, tpr, color='m',\n",
    "             lw=lw, label='Decision Tree Baseline, auc=%.3f' % auc_dt_base)\n",
    "    \n",
    "    # Random Forest Baseline\n",
    "    fpr, tpr, thresholds = roc_curve(y_test, rf_base_y_score[:,1], pos_label=1)\n",
    "    auc_rf = roc_auc_score(y_test, rf_base_y_score[:,1])\n",
    "    plt.plot(fpr, tpr, color='#08e8de',\n",
    "             lw=lw, label='Random Forest Baseline, auc=%.3f' % auc_rf)\n",
    "    \n",
    "    # Formatting\n",
    "    plt.plot([0, 1], [0, 1], color='k', lw=lw, linestyle='--')\n",
    "    plt.xlim([-0.01, 1.0])\n",
    "    plt.ylim([0.0, 1.05])\n",
    "    plt.xlabel('False Positive Rate', fontsize=13)\n",
    "    plt.ylabel('True Positive Rate', fontsize=13)\n",
    "    plt.title('Receiver Operating Characteristic', fontsize=16)\n",
    "    plt.legend(loc=\"lower right\")\n",
    "    plt.show()"
   ]
  },
  {
   "cell_type": "code",
   "execution_count": 42,
   "metadata": {},
   "outputs": [
    {
     "data": {
      "image/png": "[encoded data removed]",
      "text/plain": [
       "<matplotlib.figure.Figure at 0x1a1be18f28>"
      ]
     },
     "metadata": {},
     "output_type": "display_data"
    }
   ],
   "source": [
    "plot_roc_curves()"
   ]
  },
  {
   "cell_type": "code",
   "execution_count": null,
   "metadata": {},
   "outputs": [],
   "source": []
  }
 ],
 "metadata": {
  "kernelspec": {
   "display_name": "Python 3",
   "language": "python",
   "name": "python3"
  },
  "language_info": {
   "codemirror_mode": {
    "name": "ipython",
    "version": 3
   },
   "file_extension": ".py",
   "mimetype": "text/x-python",
   "name": "python",
   "nbconvert_exporter": "python",
   "pygments_lexer": "ipython3",
   "version": "3.6.4"
  }
 },
 "nbformat": 4,
 "nbformat_minor": 2
}
